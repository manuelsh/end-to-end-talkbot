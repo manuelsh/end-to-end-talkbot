{
 "cells": [
  {
   "cell_type": "code",
   "execution_count": null,
   "id": "c2030329-b894-4d3b-b865-418e9d568d45",
   "metadata": {},
   "outputs": [],
   "source": [
    "from transformers import WhisperProcessor, WhisperForConditionalGeneration\n",
    "import torch\n",
    "import soundfile as sf\n",
    "\n",
    "# for recording in notebooks\n",
    "from ipywebrtc import AudioRecorder, CameraStream\n",
    "import torchaudio\n",
    "from IPython.display import Audio\n",
    "\n",
    "# for converting audio file\n",
    "from pydub import AudioSegment"
   ]
  },
  {
   "cell_type": "code",
   "execution_count": 11,
   "id": "9179a658-e02a-4e6f-8c42-e6d973db7bd1",
   "metadata": {},
   "outputs": [],
   "source": [
    "# load models\n",
    "\n",
    "whisper_model = WhisperForConditionalGeneration.from_pretrained(\"openai/whisper-large\").to(\"cuda\")\n",
    "whisper_processor = WhisperProcessor.from_pretrained(\"openai/whisper-large\")"
   ]
  },
  {
   "cell_type": "code",
   "execution_count": 12,
   "id": "a030ce0c-6bcf-4c27-ac57-6ed40baeb740",
   "metadata": {},
   "outputs": [],
   "source": [
    "# transcription funcion\n",
    "\n",
    "def whisper(file):\n",
    "    input_file = sf.read(file)\n",
    "    sample_rate = sf.info(file).samplerate\n",
    "    \n",
    "    input_features = whisper_processor(input_file[0], sampling_rate=sample_rate )\n",
    "    input_features = torch.tensor( input_features['input_features'] ).to(\"cuda\")\n",
    "    \n",
    "    with torch.no_grad():\n",
    "        generated_ids = whisper_model.generate(inputs=input_features)\n",
    "    \n",
    "    transcription = whisper_processor.batch_decode(generated_ids, skip_special_tokens=True)[0]\n",
    "    \n",
    "    return transcription"
   ]
  },
  {
   "cell_type": "code",
   "execution_count": 5,
   "id": "b7729d75-3871-4c22-863c-5f790186f1cd",
   "metadata": {},
   "outputs": [
    {
     "data": {
      "application/vnd.jupyter.widget-view+json": {
       "model_id": "7053f156657241d0ba5ba04fae846364",
       "version_major": 2,
       "version_minor": 0
      },
      "text/plain": [
       "AudioRecorder(audio=Audio(value=b'', format='webm'), stream=CameraStream(constraints={'audio': True, 'video': …"
      ]
     },
     "execution_count": 5,
     "metadata": {},
     "output_type": "execute_result"
    }
   ],
   "source": [
    "# recorder in notebook\n",
    "camera = CameraStream(constraints={'audio': True,'video':False})\n",
    "recorder = AudioRecorder(stream=camera)\n",
    "recorder"
   ]
  },
  {
   "cell_type": "code",
   "execution_count": 16,
   "id": "96d60ebf-574c-459e-9df5-ed9648214d05",
   "metadata": {},
   "outputs": [
    {
     "name": "stderr",
     "output_type": "stream",
     "text": [
      "/home/ubuntu/.local/lib/python3.8/site-packages/transformers/generation_utils.py:1296: UserWarning: Neither `max_length` nor `max_new_tokens` has been set, `max_length` will default to 448 (`self.config.max_length`). Controlling `max_length` via the config is deprecated and `max_length` will be removed from the config in v5 of Transformers -- we recommend using `max_new_tokens` to control the maximum length of the generation.\n",
      "  warnings.warn(\n"
     ]
    },
    {
     "name": "stdout",
     "output_type": "stream",
     "text": [
      " Yes, I know. Isn't it cold?\n"
     ]
    }
   ],
   "source": [
    "output_file = 'output.flac'\n",
    "\n",
    "def transform_recorder_to_flac(output_file):\n",
    "    recorder.save('output.webm')\n",
    "    sound_webm = AudioSegment.from_file('output.webm').set_frame_rate(16000)\n",
    "    sound_webm.export(output_file, format='flac')\n",
    "    \n",
    "transform_recorder_to_flac(output_file)\n",
    "transcription = whisper(output_file)\n",
    "print(transcription)"
   ]
  },
  {
   "cell_type": "code",
   "execution_count": 3,
   "id": "f2e73ac2-6dbd-4685-a705-71069e0febdb",
   "metadata": {},
   "outputs": [
    {
     "name": "stderr",
     "output_type": "stream",
     "text": [
      "Special tokens have been added in the vocabulary, make sure the associated word embeddings are fine-tuned or trained.\n"
     ]
    }
   ],
   "source": [
    "from transformers import BlenderbotTokenizer, BlenderbotForConditionalGeneration\n",
    "\n",
    "mname = \"facebook/blenderbot-3B\"\n",
    "model = BlenderbotForConditionalGeneration.from_pretrained(mname).to(\"cuda\")\n",
    "tokenizer = BlenderbotTokenizer.from_pretrained(mname)"
   ]
  },
  {
   "cell_type": "code",
   "execution_count": 17,
   "id": "b37b5ce0-b806-4da2-b581-3f1c3165cb13",
   "metadata": {},
   "outputs": [
    {
     "name": "stderr",
     "output_type": "stream",
     "text": [
      "/home/ubuntu/.local/lib/python3.8/site-packages/transformers/generation_utils.py:1296: UserWarning: Neither `max_length` nor `max_new_tokens` has been set, `max_length` will default to 60 (`self.config.max_length`). Controlling `max_length` via the config is deprecated and `max_length` will be removed from the config in v5 of Transformers -- we recommend using `max_new_tokens` to control the maximum length of the generation.\n",
      "  warnings.warn(\n"
     ]
    },
    {
     "name": "stdout",
     "output_type": "stream",
     "text": [
      "['<s> Yes, it is very cold.  I am glad I am not the only one who feels that way.</s>']\n"
     ]
    }
   ],
   "source": [
    "UTTERANCE = transcription\n",
    "inputs = tokenizer([UTTERANCE], return_tensors=\"pt\")\n",
    "inputs['input_ids'] = inputs['input_ids'].to('cuda')\n",
    "inputs['attention_mask'] = inputs['attention_mask'].to('cuda')\n",
    "reply_ids = model.generate(**inputs)\n",
    "print(tokenizer.batch_decode(reply_ids))"
   ]
  },
  {
   "cell_type": "code",
   "execution_count": null,
   "id": "07b5e8c1-7301-4a36-976a-869190f63f2e",
   "metadata": {},
   "outputs": [],
   "source": []
  }
 ],
 "metadata": {
  "kernelspec": {
   "display_name": "Python 3 (ipykernel)",
   "language": "python",
   "name": "python3"
  },
  "language_info": {
   "codemirror_mode": {
    "name": "ipython",
    "version": 3
   },
   "file_extension": ".py",
   "mimetype": "text/x-python",
   "name": "python",
   "nbconvert_exporter": "python",
   "pygments_lexer": "ipython3",
   "version": "3.8.10"
  },
  "vscode": {
   "interpreter": {
    "hash": "916dbcbb3f70747c44a77c7bcd40155683ae19c65e1c03b4aa3499c5328201f1"
   }
  }
 },
 "nbformat": 4,
 "nbformat_minor": 5
}
